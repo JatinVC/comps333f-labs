{
 "cells": [
  {
   "cell_type": "code",
   "execution_count": 3,
   "id": "dc307c5a",
   "metadata": {},
   "outputs": [
    {
     "name": "stdout",
     "output_type": "stream",
     "text": [
      "Hello, World\n"
     ]
    }
   ],
   "source": [
    "# AI_Lab1a1_stu\n",
    "# Ques:  print as: Hello, World!\n",
    "print('Hello, World')"
   ]
  },
  {
   "cell_type": "code",
   "execution_count": 4,
   "id": "0550bd96",
   "metadata": {},
   "outputs": [
    {
     "name": "stdout",
     "output_type": "stream",
     "text": [
      "[1, 3, 5]\n",
      "[2, 4, 6]\n"
     ]
    }
   ],
   "source": [
    "# AI_Lab1a_q2_stu\n",
    "# Ques: Given that nums = [1, 2, 3, 4, 5, 6], \n",
    "#       Design an algorithm to print them into line1=[1, 3, 5]; and line2=[2, 4, 6]\n",
    "nums = [i for i in range(1, 7)]\n",
    "line1=[num for num in nums if num%2!=0]\n",
    "line2=[num for num in nums if num%2==0]\n",
    "print(line1)\n",
    "print(line2)"
   ]
  },
  {
   "cell_type": "code",
   "execution_count": null,
   "id": "a38036d3",
   "metadata": {},
   "outputs": [],
   "source": []
  }
 ],
 "metadata": {
  "kernelspec": {
   "display_name": "Python 3 (ipykernel)",
   "language": "python",
   "name": "python3"
  },
  "language_info": {
   "codemirror_mode": {
    "name": "ipython",
    "version": 3
   },
   "file_extension": ".py",
   "mimetype": "text/x-python",
   "name": "python",
   "nbconvert_exporter": "python",
   "pygments_lexer": "ipython3",
   "version": "3.8.11"
  }
 },
 "nbformat": 4,
 "nbformat_minor": 5
}
